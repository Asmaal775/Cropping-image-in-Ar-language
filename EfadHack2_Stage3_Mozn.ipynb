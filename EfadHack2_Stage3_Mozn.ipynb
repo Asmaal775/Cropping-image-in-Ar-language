{
  "nbformat": 4,
  "nbformat_minor": 0,
  "metadata": {
    "colab": {
      "name": "EfadHack2-Stage3-Mozn.ipynb",
      "provenance": [],
      "collapsed_sections": []
    },
    "kernelspec": {
      "name": "python3",
      "display_name": "Python 3"
    }
  },
  "cells": [
    {
      "cell_type": "code",
      "metadata": {
        "id": "hEtwYgQg0iww"
      },
      "source": [
        "#pip install easyocr\r\n",
        "#pip install opencv-python\r\n",
        "import easyocr\r\n",
        "import cv2\r\n",
        "from matplotlib import pyplot as plt"
      ],
      "execution_count": 7,
      "outputs": []
    },
    {
      "cell_type": "code",
      "metadata": {
        "id": "wlgI_dZR9UhR"
      },
      "source": [
        "#Define image path in tiff format or any format\r\n",
        "IMAGE_PATH = '/content/drive/MyDrive/005002001001-2.tiff'"
      ],
      "execution_count": 9,
      "outputs": []
    },
    {
      "cell_type": "code",
      "metadata": {
        "colab": {
          "base_uri": "https://localhost:8080/"
        },
        "id": "9cd99tJv9ZPu",
        "outputId": "03fa3ffa-38f0-4340-ba7a-02a3e5470eb6"
      },
      "source": [
        "#we use cv2 from opencv to handle tiff images\r\n",
        "conv = cv2.imread(IMAGE_PATH)\r\n",
        "#call arabic library from easyocr\r\n",
        "reader = easyocr.Reader(['ar'])\r\n",
        "result = reader.readtext(conv)\r\n",
        "#you can type 'result' to get extracted text"
      ],
      "execution_count": 10,
      "outputs": [
        {
          "output_type": "stream",
          "text": [
            "CUDA not available - defaulting to CPU. Note: This module is much faster with a GPU.\n",
            "Downloading detection model, please wait. This may take several minutes depending upon your network connection.\n"
          ],
          "name": "stderr"
        },
        {
          "output_type": "stream",
          "text": [
            ""
          ],
          "name": "stdout"
        },
        {
          "output_type": "stream",
          "text": [
            "Downloading recognition model, please wait. This may take several minutes depending upon your network connection.\n"
          ],
          "name": "stderr"
        },
        {
          "output_type": "stream",
          "text": [
            ""
          ],
          "name": "stdout"
        }
      ]
    },
    {
      "cell_type": "code",
      "metadata": {
        "colab": {
          "base_uri": "https://localhost:8080/",
          "height": 249
        },
        "id": "K_77kj2y9geB",
        "outputId": "e94152c8-0385-486f-ce92-de1f78e794f8"
      },
      "source": [
        "#read image from defined path\r\n",
        "img = cv2.imread(IMAGE_PATH)\r\n",
        "#identify varible for looping main image for extracting bounding box in sub-images\r\n",
        "Image_number = 1000\r\n",
        "copy = img.copy()\r\n",
        "#looping main image\r\n",
        "for i in result:\r\n",
        "    #we specify the Coordinates for each word after looping documant \r\n",
        "    top_left = tuple([int(val) for val in i[0][0]])\r\n",
        "    bottom_right = tuple([int(val) for val in i[0][2]])\r\n",
        "    #we use cv2.rectangle() method to draw a rectangle on sub-images  \r\n",
        "    img = cv2.rectangle(copy, top_left, bottom_right, (36,255,12), 3)\r\n",
        "    #cropping image after draw a rectangle (bounding box)\r\n",
        "    cropped_img = img[top_left[1]:bottom_right[1], top_left[0]:bottom_right[0], :] \r\n",
        "    #save sub-images automaticlly \r\n",
        "    plt.imsave('/content/drive/MyDrive/Colab Notebooks/data/005002001001-2-{}.tiff'.format(Image_number), cropped_img )\r\n",
        "    Image_number += 1\r\n",
        "#present image with bounding box for each word\r\n",
        "plt.figure(figsize=(30,30))    \r\n",
        "plt.imshow(img)\r\n",
        "cv2.waitKey()"
      ],
      "execution_count": 1,
      "outputs": [
        {
          "output_type": "error",
          "ename": "NameError",
          "evalue": "ignored",
          "traceback": [
            "\u001b[0;31m---------------------------------------------------------------------------\u001b[0m",
            "\u001b[0;31mNameError\u001b[0m                                 Traceback (most recent call last)",
            "\u001b[0;32m<ipython-input-1-87e025f71414>\u001b[0m in \u001b[0;36m<module>\u001b[0;34m()\u001b[0m\n\u001b[1;32m      1\u001b[0m \u001b[0;31m#read image from defined path\u001b[0m\u001b[0;34m\u001b[0m\u001b[0;34m\u001b[0m\u001b[0;34m\u001b[0m\u001b[0m\n\u001b[0;32m----> 2\u001b[0;31m \u001b[0mimg\u001b[0m \u001b[0;34m=\u001b[0m \u001b[0mcv2\u001b[0m\u001b[0;34m.\u001b[0m\u001b[0mimread\u001b[0m\u001b[0;34m(\u001b[0m\u001b[0mIMAGE_PATH\u001b[0m\u001b[0;34m)\u001b[0m\u001b[0;34m\u001b[0m\u001b[0;34m\u001b[0m\u001b[0m\n\u001b[0m\u001b[1;32m      3\u001b[0m \u001b[0;31m#identify varible for looping main image for extracting bounding box in sub-images\u001b[0m\u001b[0;34m\u001b[0m\u001b[0;34m\u001b[0m\u001b[0;34m\u001b[0m\u001b[0m\n\u001b[1;32m      4\u001b[0m \u001b[0mImage_number\u001b[0m \u001b[0;34m=\u001b[0m \u001b[0;36m1000\u001b[0m\u001b[0;34m\u001b[0m\u001b[0;34m\u001b[0m\u001b[0m\n\u001b[1;32m      5\u001b[0m \u001b[0mcopy\u001b[0m \u001b[0;34m=\u001b[0m \u001b[0mimg\u001b[0m\u001b[0;34m.\u001b[0m\u001b[0mcopy\u001b[0m\u001b[0;34m(\u001b[0m\u001b[0;34m)\u001b[0m\u001b[0;34m\u001b[0m\u001b[0;34m\u001b[0m\u001b[0m\n",
            "\u001b[0;31mNameError\u001b[0m: name 'cv2' is not defined"
          ]
        }
      ]
    }
  ]
}